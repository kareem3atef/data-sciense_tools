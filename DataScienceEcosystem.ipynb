{
 "cells": [
  {
   "cell_type": "markdown",
   "id": "b2ae7652-1379-4fda-a8bc-7c3a84f78feb",
   "metadata": {
    "tags": []
   },
   "source": [
    "# Data Science Tools and Ecosystem"
   ]
  },
  {
   "cell_type": "markdown",
   "id": "2d7fba7e-b9e0-4839-9959-7ea115c5edaf",
   "metadata": {
    "tags": []
   },
   "source": [
    "### In this notebook , Data Science tools and ecosystem are summarized"
   ]
  },
  {
   "cell_type": "markdown",
   "id": "26981c3e-f47f-4f54-9f69-4fee892f712c",
   "metadata": {
    "tags": []
   },
   "source": [
    " some of the data Science languages are\n",
    "1. Python\n",
    "2. R\n",
    "3. SQL"
   ]
  },
  {
   "cell_type": "markdown",
   "id": "8bbe96aa-2d97-4200-89df-9af5aac0d480",
   "metadata": {
    "tags": []
   },
   "source": [
    " some of the commonly used libraries in data science are\n",
    "1. Pandas\n",
    "2. Numpy\n",
    "3. Matplot\n",
    "4. Scipy\n",
    "5. Scikitlearn"
   ]
  },
  {
   "cell_type": "markdown",
   "id": "d2fd35d9-2092-4d86-b510-387a4dcbc88c",
   "metadata": {},
   "source": [
    "| Data Science tools |\n",
    "| ------------------ |\n",
    "| Jupyter notebook |\n",
    "| Apache Zepplin |\n",
    "| Apache Spark |"
   ]
  },
  {
   "cell_type": "markdown",
   "id": "8341196b-1d3e-485a-9336-e1d5e5bffed6",
   "metadata": {
    "tags": []
   },
   "source": [
    "### Examples of evaluating arithmetic in python"
   ]
  },
  {
   "cell_type": "code",
   "execution_count": 9,
   "id": "42946c6a-6c78-448b-a333-f11206b5bb0a",
   "metadata": {
    "tags": []
   },
   "outputs": [
    {
     "data": {
      "text/plain": [
       "17"
      ]
     },
     "execution_count": 9,
     "metadata": {},
     "output_type": "execute_result"
    }
   ],
   "source": [
    "# simple arithmatic expression to multibly then add two integers\n",
    "(3*4)+5"
   ]
  },
  {
   "cell_type": "code",
   "execution_count": 10,
   "id": "89d9f481-72a8-4dee-90b8-b4ca8c909d18",
   "metadata": {
    "tags": []
   },
   "outputs": [
    {
     "data": {
      "text/plain": [
       "3.3333333333333335"
      ]
     },
     "execution_count": 10,
     "metadata": {},
     "output_type": "execute_result"
    }
   ],
   "source": [
    "# this will convert 200 minutes two hours by deviding by 60\n",
    "200/60"
   ]
  },
  {
   "cell_type": "markdown",
   "id": "87f0c5c9-2e8b-4ab8-99e3-691b0461d827",
   "metadata": {},
   "source": [
    "<strong>objective</strong>\n",
    "- languages for data science\n",
    "- libraries for data science \n",
    "- open source tools for data science\n",
    "- arithmetic operation in python"
   ]
  },
  {
   "cell_type": "markdown",
   "id": "12080771-95f9-492d-b3b0-19aa99935273",
   "metadata": {},
   "source": [
    "## Author : Kareem Atef"
   ]
  },
  {
   "cell_type": "code",
   "execution_count": null,
   "id": "7654452c-8af1-4dbe-b253-39b432cfff63",
   "metadata": {},
   "outputs": [],
   "source": []
  }
 ],
 "metadata": {
  "kernelspec": {
   "display_name": "Python",
   "language": "python",
   "name": "conda-env-python-py"
  },
  "language_info": {
   "codemirror_mode": {
    "name": "ipython",
    "version": 3
   },
   "file_extension": ".py",
   "mimetype": "text/x-python",
   "name": "python",
   "nbconvert_exporter": "python",
   "pygments_lexer": "ipython3",
   "version": "3.7.12"
  }
 },
 "nbformat": 4,
 "nbformat_minor": 5
}
